{
  "nbformat": 4,
  "nbformat_minor": 0,
  "metadata": {
    "colab": {
      "name": "MNIST walk-through of building blocks of NN.ipynb",
      "provenance": [],
      "collapsed_sections": [],
      "authorship_tag": "ABX9TyMKfxrKU4WdQ/qa4igNz9gV",
      "include_colab_link": true
    },
    "kernelspec": {
      "name": "python3",
      "display_name": "Python 3"
    },
    "accelerator": "GPU"
  },
  "cells": [
    {
      "cell_type": "markdown",
      "metadata": {
        "id": "view-in-github",
        "colab_type": "text"
      },
      "source": [
        "<a href=\"https://colab.research.google.com/github/Sameer55555/Practice/blob/master/MNIST_building_blocks_of_NN.ipynb\" target=\"_parent\"><img src=\"https://colab.research.google.com/assets/colab-badge.svg\" alt=\"Open In Colab\"/></a>"
      ]
    },
    {
      "cell_type": "markdown",
      "metadata": {
        "id": "vphzqO6sMt7l",
        "colab_type": "text"
      },
      "source": [
        "**MNIST Neural Network from Scratch**"
      ]
    },
    {
      "cell_type": "markdown",
      "metadata": {
        "id": "DAFY0yQPWWNS",
        "colab_type": "text"
      },
      "source": [
        "Fully Connected Layer"
      ]
    },
    {
      "cell_type": "code",
      "metadata": {
        "id": "wHVaB-wzWYMY",
        "colab_type": "code",
        "colab": {}
      },
      "source": [
        "import numpy as np"
      ],
      "execution_count": 0,
      "outputs": []
    },
    {
      "cell_type": "code",
      "metadata": {
        "id": "cE3iQN-5Wg7n",
        "colab_type": "code",
        "colab": {}
      },
      "source": [
        "class Linear():\n",
        "  def __init__(self, in_size, out_size):\n",
        "    self.W = np.random.randn(in_size, out_size)*0.01\n",
        "    self.b = np.zeros((1, out_size)) \n",
        "    self.params = [self.W, self.b]\n",
        "    self.gradW = None\n",
        "    self.gradB = None\n",
        "    self.gradinput = None\n",
        "\n",
        "  def forward(self, X):\n",
        "    self.X = X\n",
        "    self.output = np.dot(X, self.W) + self.b\n",
        "    return self.output\n",
        "  \n",
        "  def backward(self, nextgrad):\n",
        "    self.gradW = np.dot(self.X.T, nextgrad)\n",
        "    self.gradB = np.sum(nextgrad, axis = 0)\n",
        "    self.gradinput = np.dot(nextgrad, self.W.T)\n",
        "    return self.gradinput, [self.gradW, self.gradB] "
      ],
      "execution_count": 0,
      "outputs": []
    },
    {
      "cell_type": "markdown",
      "metadata": {
        "id": "Ut__Eu02_5lq",
        "colab_type": "text"
      },
      "source": [
        "Rectified Linear Activation Layer"
      ]
    },
    {
      "cell_type": "code",
      "metadata": {
        "id": "9adMxMys9xwQ",
        "colab_type": "code",
        "colab": {}
      },
      "source": [
        "class ReLU():\n",
        "  def __init__(self):\n",
        "    self.params = []\n",
        "    self.gradinput = None\n",
        "\n",
        "  def forward(self, X):\n",
        "    self.output = np.maximum(X, 0)\n",
        "    return self.output\n",
        "  \n",
        "  def backward(self, nextgrad):\n",
        "    self.gradinput = nextgrad.copy()\n",
        "    self.gradinput[self.output <= 0] = 0\n",
        "    return self.gradinput, [] "
      ],
      "execution_count": 0,
      "outputs": []
    },
    {
      "cell_type": "markdown",
      "metadata": {
        "id": "P9pFFPrSAA8o",
        "colab_type": "text"
      },
      "source": [
        "Defining Softmax Function"
      ]
    },
    {
      "cell_type": "code",
      "metadata": {
        "id": "t1S48sEh_iEy",
        "colab_type": "code",
        "colab": {}
      },
      "source": [
        "def softmax(x):\n",
        "  exp_x =  np.exp(x - np.max(x, axis = 1, keepdims= True))\n",
        "  return exp_x / np.sum(exp_x, axis = 1, keepdims= True)\n"
      ],
      "execution_count": 0,
      "outputs": []
    },
    {
      "cell_type": "markdown",
      "metadata": {
        "id": "3W_cryCyBURo",
        "colab_type": "text"
      },
      "source": [
        "Defining CrossEntropy"
      ]
    },
    {
      "cell_type": "code",
      "metadata": {
        "id": "S-8dmXvXAVGf",
        "colab_type": "code",
        "colab": {}
      },
      "source": [
        "class CrossEntropy():\n",
        "  def forward(self, X, y):\n",
        "    self.m = y.shape[0]\n",
        "    self.p = softmax(X)\n",
        "    cross_entropy = -np.log(self.p[range(self.m), y]+1e-16)\n",
        "    loss = np.sum(cross_entropy) / self.m\n",
        "    return loss\n",
        "  \n",
        "  def backward(self, X, y):\n",
        "    y_idx = y.argmax()\n",
        "    grad = softmax(X)\n",
        "    grad[range(self.m), y] -= 1\n",
        "    grad /= self.m\n",
        "    return grad "
      ],
      "execution_count": 0,
      "outputs": []
    },
    {
      "cell_type": "markdown",
      "metadata": {
        "id": "XvlVjJSpv_OM",
        "colab_type": "text"
      },
      "source": [
        "Loading MNIST Datasets"
      ]
    },
    {
      "cell_type": "code",
      "metadata": {
        "id": "KDcoyw_ECrmi",
        "colab_type": "code",
        "outputId": "de2ee82d-bbce-41ad-8a36-089ea4eba03c",
        "colab": {
          "base_uri": "https://localhost:8080/",
          "height": 85
        }
      },
      "source": [
        "from keras.datasets import mnist\n",
        "from keras.utils import np_utils\n",
        "\n",
        "(train_features, train_targets), (test_features, test_targets) = mnist.load_data()\n",
        "\n",
        "train_features = train_features.reshape(60000, 784)\n",
        "print(train_features.shape)\n",
        "test_features = test_features.reshape(10000, 784)\n",
        "print(test_features.shape)\n",
        "\n",
        "train_features = train_features / 255.0\n",
        "test_features = test_features / 255.0\n",
        "\n",
        "print(train_targets.shape)\n",
        "print(test_targets.shape)\n",
        "\n",
        "X_train = train_features\n",
        "y_train = train_targets\n",
        "\n",
        "X_val = test_features\n",
        "y_val = test_targets"
      ],
      "execution_count": 100,
      "outputs": [
        {
          "output_type": "stream",
          "text": [
            "(60000, 784)\n",
            "(10000, 784)\n",
            "(60000,)\n",
            "(10000,)\n"
          ],
          "name": "stdout"
        }
      ]
    },
    {
      "cell_type": "code",
      "metadata": {
        "id": "Bd4gUVHnwb9B",
        "colab_type": "code",
        "outputId": "02f8502e-7154-4e9c-f093-d63c698e5b6d",
        "colab": {
          "base_uri": "https://localhost:8080/",
          "height": 102
        }
      },
      "source": [
        "%matplotlib inline\n",
        "import matplotlib.pyplot as plt\n",
        "plt.figure(figsize = (10,1))\n",
        "for i in range(5):\n",
        "  plt.subplot(1, 5, i+1)\n",
        "  plt.imshow(X_train[i].reshape(28,28), cmap=\"gray\")\n",
        "  plt.axis('off')\n",
        "plt.show()\n",
        "print('label for each of the above image: %s' %(y_train[0:5]))"
      ],
      "execution_count": 101,
      "outputs": [
        {
          "output_type": "display_data",
          "data": {
            "image/png": "[encoded data removed]",
            "text/plain": [
              "<Figure size 720x72 with 5 Axes>"
            ]
          },
          "metadata": {
            "tags": []
          }
        },
        {
          "output_type": "stream",
          "text": [
            "label for each of the above image: [5 0 4 1 9]\n"
          ],
          "name": "stdout"
        }
      ]
    },
    {
      "cell_type": "markdown",
      "metadata": {
        "id": "TcV42P3T2sRj",
        "colab_type": "text"
      },
      "source": [
        "Neural Network Class\n"
      ]
    },
    {
      "cell_type": "code",
      "metadata": {
        "id": "j3v1d_ZL2IqG",
        "colab_type": "code",
        "colab": {}
      },
      "source": [
        "class NN():\n",
        "  def __init__(self, lossfunc=CrossEntropy(), mode = 'train'):\n",
        "    self.params = []\n",
        "    self.layers = []\n",
        "    self.loss_func = lossfunc\n",
        "    self.grads = []\n",
        "    self.mode = mode\n",
        "\n",
        "  def add_layer(self, layer):\n",
        "    self.layers.append(layer)\n",
        "    self.params.append(layer.params)\n",
        "  \n",
        "  def forward(self, X):\n",
        "    for layer in self.layers:\n",
        "      X = layer.forward(X)\n",
        "    return X\n",
        "  \n",
        "  def backward(self, nextgrad):\n",
        "    self.clear_grad_param()\n",
        "    for layer in reversed(self.layers):\n",
        "      nextgrad, grad = layer.backward(nextgrad)\n",
        "      self.grads.append(grad)\n",
        "    return self.grads\n",
        "  \n",
        "  def train_step(self, X, y):\n",
        "    out = self.forward(X)\n",
        "    loss = self.loss_func.forward(out,y)\n",
        "    nextgrad = self.loss_func.backward(out,y)\n",
        "    grads = self.backward(nextgrad)\n",
        "    return loss, grads\n",
        "\n",
        "  def predict(self, X):\n",
        "    X = self.forward(X)\n",
        "    return np.argmax(X, axis=1)\n",
        "  \n",
        "  def predict_scores(self, X):\n",
        "    X = self.forward(X)\n",
        "    return X\n",
        "\n",
        "  def clear_grad_param(self):\n",
        "    self.grads = []"
      ],
      "execution_count": 0,
      "outputs": []
    },
    {
      "cell_type": "markdown",
      "metadata": {
        "id": "canl2zp78837",
        "colab_type": "text"
      },
      "source": [
        "Defining the Update Function"
      ]
    },
    {
      "cell_type": "code",
      "metadata": {
        "id": "XlCHrJv53P8S",
        "colab_type": "code",
        "colab": {}
      },
      "source": [
        "def update_params(velocity, params, grads, learning_rate=0.01, mu=0.9):\n",
        "  for v, p, g, in zip(velocity, params, reversed(grads)):\n",
        "    for i in range(len(g)):\n",
        "      v[i] = mu*v[i] + learning_rate*g[i]\n",
        "      p[i] -= v[i]"
      ],
      "execution_count": 0,
      "outputs": []
    },
    {
      "cell_type": "markdown",
      "metadata": {
        "id": "uEXRGig6-Ktd",
        "colab_type": "text"
      },
      "source": [
        "Defining a Function for Minibatches"
      ]
    },
    {
      "cell_type": "code",
      "metadata": {
        "id": "a7hw6bpI9oCy",
        "colab_type": "code",
        "colab": {}
      },
      "source": [
        "def minibatch(X, y, minibatch_size):\n",
        "  n = X.shape[0]\n",
        "  minibatches = []\n",
        "  permutation = np.random.permutation(X.shape[0])\n",
        "  X = X[permutation]\n",
        "  y = y[permutation]\n",
        "\n",
        "  for i in range(0, n, minibatch_size):\n",
        "    X_batch = X[i:i + minibatch_size, :]\n",
        "    y_batch = y[i:i + minibatch_size, ]\n",
        "    minibatches.append((X_batch, y_batch))\n",
        "\n",
        "  return minibatches"
      ],
      "execution_count": 0,
      "outputs": []
    },
    {
      "cell_type": "markdown",
      "metadata": {
        "id": "gUBamZ_5Qy4P",
        "colab_type": "text"
      },
      "source": [
        "Training Loop"
      ]
    },
    {
      "cell_type": "code",
      "metadata": {
        "id": "roSaz-c7Q1_7",
        "colab_type": "code",
        "colab": {}
      },
      "source": [
        "def train(net, X_train, y_train, minibatch_size, epoch, learning_rate, mu=0.9, X_val=None, y_val=None):\n",
        "  val_loss_epoch = []\n",
        "  minibatches = minibatch(X_train, y_train, minibatch_size)\n",
        "  minibatches_val = minibatch(X_val, y_val, minibatch_size)\n",
        "\n",
        "  for i in range(epoch):\n",
        "    loss_batch = []\n",
        "    val_loss_batch = []\n",
        "    velocity = []\n",
        "    for param_layer in net.params:\n",
        "      p = [np.zeros_like(param) for param in list(param_layer)]\n",
        "      velocity.append(p)\n",
        "    \n",
        "    #iterate over minibatches\n",
        "    for X_mini, y_mini in minibatches:\n",
        "      loss, grads = net.train_step(X_mini, y_mini)\n",
        "      loss_batch.append(loss)\n",
        "      update_params(velocity, net.params, grads, learning_rate=0.01, mu=0.9)\n",
        "\n",
        "    for X_mini, y_mini in minibatches_val:\n",
        "      val_loss, _ = net.train_step(X_mini, y_mini)\n",
        "      val_loss_batch.append(val_loss)\n",
        "\n",
        "    #accuracy of model at end of epoch after all mini batch updates\n",
        "    m_train = X_train.shape[0]\n",
        "    m_val = X_val.shape[0]\n",
        "    y_train_pred = np.array([], dtype=\"int64\")\n",
        "    y_val_pred = np.array([], dtype=\"int64\")\n",
        "    y_train1 = []\n",
        "    y_vall = []\n",
        "    for i in range(0, m_train, minibatch_size):\n",
        "      X_tr = X_train[i:i + minibatch_size, :]\n",
        "      y_tr = y_train[i:i + minibatch_size,]\n",
        "      y_train1 = np.append(y_train1, y_tr)\n",
        "      y_train_pred = np.append(y_train_pred, net.predict(X_tr))\n",
        "\n",
        "    for i in range(0, m_val, minibatch_size):\n",
        "      X_va = X_val[i:i + minibatch_size, :]\n",
        "      y_va = y_val[i:i + minibatch_size,]\n",
        "      y_val1 = np.append(y_vall, y_va)\n",
        "      y_val_pred = np.append(y_val_pred, net.predict(X_va))\n",
        "\n",
        "    train_acc = check_accuracy(y_train1, y_train_pred)\n",
        "    val_acc = check_accuracy(y_vall, y_val_pred)\n",
        "    \n",
        "    mean_train_loss = sum(loss_batch)/float(len(loss_batch))\n",
        "    mean_val_loss = sum(val_loss_batch) /float(len(val_loss_batch))\n",
        "\n",
        "    val_loss_epoch.append(mean_val_loss)\n",
        "    print(\"Loss = (0) | Traiining Accuracy = {1}| Val Loss = {2} | Val Accuracy = {3}\".format(mean_train_loss, train_acc, mean_val_loss, val_acc))\n",
        "  return net"
      ],
      "execution_count": 0,
      "outputs": []
    },
    {
      "cell_type": "markdown",
      "metadata": {
        "id": "azvatZTsfJRC",
        "colab_type": "text"
      },
      "source": [
        "Checking the Accuracy of the model"
      ]
    },
    {
      "cell_type": "code",
      "metadata": {
        "id": "xNB00B1kTkrl",
        "colab_type": "code",
        "colab": {}
      },
      "source": [
        "def check_accuracy(y_true, y_pred):\n",
        "  return np.mean(y_pred == y_true)"
      ],
      "execution_count": 0,
      "outputs": []
    },
    {
      "cell_type": "markdown",
      "metadata": {
        "id": "yr10yPwZfY9b",
        "colab_type": "text"
      },
      "source": [
        "Invoking all that we have created till now"
      ]
    },
    {
      "cell_type": "code",
      "metadata": {
        "id": "mRoapPyAfW7P",
        "colab_type": "code",
        "colab": {
          "base_uri": "https://localhost:8080/",
          "height": 221
        },
        "outputId": "3da34552-58b0-43f7-9acf-a9e471154e8b"
      },
      "source": [
        "from random import shuffle\n",
        "\n",
        "## input size\n",
        "input_dim = X_train.shape[1]\n",
        "\n",
        "## hyperparameters\n",
        "iterations = 10\n",
        "learning_rate = 1e4\n",
        "hidden_nodes = 32\n",
        "output_nodes = 10\n",
        "\n",
        "## define neural net\n",
        "nn = NN()\n",
        "nn.add_layer(Linear(input_dim, hidden_nodes))\n",
        "nn.add_layer(ReLU())\n",
        "nn.add_layer(Linear(hidden_nodes, output_nodes))\n",
        "\n",
        "nn = train(nn, X_train , y_train, minibatch_size=200, epoch=10, \\\n",
        "           learning_rate=learning_rate, X_val=X_val, y_val=y_val)"
      ],
      "execution_count": 107,
      "outputs": [
        {
          "output_type": "stream",
          "text": [
            "/usr/local/lib/python3.6/dist-packages/ipykernel_launcher.py:2: DeprecationWarning: elementwise comparison failed; this will raise an error in the future.\n",
            "  \n"
          ],
          "name": "stderr"
        },
        {
          "output_type": "stream",
          "text": [
            "Loss = (0) | Traiining Accuracy = 0.8690333333333333| Val Loss = 0.45260781704449743 | Val Accuracy = 0.0\n",
            "Loss = (0) | Traiining Accuracy = 0.9004| Val Loss = 0.3346811198092868 | Val Accuracy = 0.0\n",
            "Loss = (0) | Traiining Accuracy = 0.9123| Val Loss = 0.29652040868596047 | Val Accuracy = 0.0\n",
            "Loss = (0) | Traiining Accuracy = 0.9191333333333334| Val Loss = 0.2727430984902421 | Val Accuracy = 0.0\n",
            "Loss = (0) | Traiining Accuracy = 0.92485| Val Loss = 0.25464925013063433 | Val Accuracy = 0.0\n",
            "Loss = (0) | Traiining Accuracy = 0.92945| Val Loss = 0.23997319900001413 | Val Accuracy = 0.0\n",
            "Loss = (0) | Traiining Accuracy = 0.9343833333333333| Val Loss = 0.22682950016596007 | Val Accuracy = 0.0\n",
            "Loss = (0) | Traiining Accuracy = 0.9377666666666666| Val Loss = 0.21481254305035002 | Val Accuracy = 0.0\n",
            "Loss = (0) | Traiining Accuracy = 0.9408333333333333| Val Loss = 0.20398730999262932 | Val Accuracy = 0.0\n",
            "Loss = (0) | Traiining Accuracy = 0.94385| Val Loss = 0.19434978906359826 | Val Accuracy = 0.0\n"
          ],
          "name": "stdout"
        }
      ]
    },
    {
      "cell_type": "code",
      "metadata": {
        "id": "AJMagzB1glno",
        "colab_type": "code",
        "colab": {
          "base_uri": "https://localhost:8080/",
          "height": 282
        },
        "outputId": "9675b409-5d6e-40c3-ef5b-73e0451db393"
      },
      "source": [
        " plt.imshow(X_val[0].reshape(28,28), cmap='gray')"
      ],
      "execution_count": 108,
      "outputs": [
        {
          "output_type": "execute_result",
          "data": {
            "text/plain": [
              "<matplotlib.image.AxesImage at 0x7fc5657f1128>"
            ]
          },
          "metadata": {
            "tags": []
          },
          "execution_count": 108
        },
        {
          "output_type": "display_data",
          "data": {
            "image/png": "[encoded data removed]",
            "text/plain": [
              "<Figure size 432x288 with 1 Axes>"
            ]
          },
          "metadata": {
            "tags": []
          }
        }
      ]
    },
    {
      "cell_type": "code",
      "metadata": {
        "id": "Tz7D8o8Ik9vY",
        "colab_type": "code",
        "colab": {}
      },
      "source": [
        "# Predict Scores for each class\n",
        "prediction = nn.predict_scores(X_val[0])[0]"
      ],
      "execution_count": 0,
      "outputs": []
    },
    {
      "cell_type": "code",
      "metadata": {
        "id": "0E5uwGzpk_4_",
        "colab_type": "code",
        "colab": {
          "base_uri": "https://localhost:8080/",
          "height": 68
        },
        "outputId": "ce89a784-b3b6-4da5-a313-03f00815d0d8"
      },
      "source": [
        "print(\"Scores\")\n",
        "print(prediction)"
      ],
      "execution_count": 110,
      "outputs": [
        {
          "output_type": "stream",
          "text": [
            "Scores\n",
            "[ 1.15583255 -8.26740847  2.30774546  4.14921257 -3.31610057  0.77850502\n",
            " -8.82875043 10.11746634  0.40487447  2.30730165]\n"
          ],
          "name": "stdout"
        }
      ]
    },
    {
      "cell_type": "code",
      "metadata": {
        "id": "3c20NhxllBo_",
        "colab_type": "code",
        "colab": {
          "base_uri": "https://localhost:8080/",
          "height": 34
        },
        "outputId": "5172c7f6-0052-467a-b177-3fbb3e116359"
      },
      "source": [
        "np.argmax(prediction)"
      ],
      "execution_count": 111,
      "outputs": [
        {
          "output_type": "execute_result",
          "data": {
            "text/plain": [
              "7"
            ]
          },
          "metadata": {
            "tags": []
          },
          "execution_count": 111
        }
      ]
    },
    {
      "cell_type": "code",
      "metadata": {
        "id": "cNWZ0HNolKgq",
        "colab_type": "code",
        "colab": {
          "base_uri": "https://localhost:8080/",
          "height": 34
        },
        "outputId": "3e3341bc-e4f9-434f-8f97-d04a26eb1029"
      },
      "source": [
        "predict_class = nn.predict(X_val[0])[0]\n",
        "predict_class"
      ],
      "execution_count": 112,
      "outputs": [
        {
          "output_type": "execute_result",
          "data": {
            "text/plain": [
              "7"
            ]
          },
          "metadata": {
            "tags": []
          },
          "execution_count": 112
        }
      ]
    },
    {
      "cell_type": "code",
      "metadata": {
        "id": "oYzzcdnPlM6c",
        "colab_type": "code",
        "colab": {
          "base_uri": "https://localhost:8080/",
          "height": 34
        },
        "outputId": "fbc7d190-d37e-4acc-dc8a-c991862d200e"
      },
      "source": [
        "# Original class\n",
        "y_val[0]"
      ],
      "execution_count": 113,
      "outputs": [
        {
          "output_type": "execute_result",
          "data": {
            "text/plain": [
              "7"
            ]
          },
          "metadata": {
            "tags": []
          },
          "execution_count": 113
        }
      ]
    },
    {
      "cell_type": "code",
      "metadata": {
        "id": "KZI5TTBHlOjl",
        "colab_type": "code",
        "colab": {}
      },
      "source": [
        ""
      ],
      "execution_count": 0,
      "outputs": []
    }
  ]
}