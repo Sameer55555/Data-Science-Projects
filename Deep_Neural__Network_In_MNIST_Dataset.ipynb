{
  "nbformat": 4,
  "nbformat_minor": 0,
  "metadata": {
    "colab": {
      "name": "Deep_Neural _Network_In_MNIST_Dataset.ipynb",
      "provenance": [],
      "authorship_tag": "ABX9TyNC/YdmxIU4Ou5OcqjeWYA7",
      "include_colab_link": true
    },
    "kernelspec": {
      "name": "python3",
      "display_name": "Python 3"
    },
    "accelerator": "GPU"
  },
  "cells": [
    {
      "cell_type": "markdown",
      "metadata": {
        "id": "view-in-github",
        "colab_type": "text"
      },
      "source": [
        "<a href=\"https://colab.research.google.com/github/Sameer55555/Practice/blob/master/Deep_Neural__Network_In_MNIST_Dataset.ipynb\" target=\"_parent\"><img src=\"https://colab.research.google.com/assets/colab-badge.svg\" alt=\"Open In Colab\"/></a>"
      ]
    },
    {
      "cell_type": "code",
      "metadata": {
        "id": "huDDjBx4Xlld",
        "colab_type": "code",
        "colab": {
          "base_uri": "https://localhost:8080/",
          "height": 64
        },
        "outputId": "d9d1088a-3eb1-42bf-9e6e-65f624f34325"
      },
      "source": [
        "import tensorflow as tf\n",
        "tf.reset_default_graph()\n",
        "tf.set_random_seed(42)"
      ],
      "execution_count": 1,
      "outputs": [
        {
          "output_type": "display_data",
          "data": {
            "text/html": [
              "<p style=\"color: red;\">\n",
              "The default version of TensorFlow in Colab will soon switch to TensorFlow 2.x.<br>\n",
              "We recommend you <a href=\"https://www.tensorflow.org/guide/migrate\" target=\"_blank\">upgrade</a> now \n",
              "or ensure your notebook will continue to use TensorFlow 1.x via the <code>%tensorflow_version 1.x</code> magic:\n",
              "<a href=\"https://colab.research.google.com/notebooks/tensorflow_version.ipynb\" target=\"_blank\">more info</a>.</p>\n"
            ],
            "text/plain": [
              "<IPython.core.display.HTML object>"
            ]
          },
          "metadata": {
            "tags": []
          }
        }
      ]
    },
    {
      "cell_type": "code",
      "metadata": {
        "id": "Z3ADqLw0Yf1r",
        "colab_type": "code",
        "colab": {
          "base_uri": "https://localhost:8080/",
          "height": 52
        },
        "outputId": "14d9b52f-b342-4562-e815-fda55dfdbb60"
      },
      "source": [
        "#Collect Data\n",
        "(trainX,trainY),(testX,testY) = tf.keras.datasets.mnist.load_data()"
      ],
      "execution_count": 2,
      "outputs": [
        {
          "output_type": "stream",
          "text": [
            "Downloading data from https://storage.googleapis.com/tensorflow/tf-keras-datasets/mnist.npz\n",
            "11493376/11490434 [==============================] - 0s 0us/step\n"
          ],
          "name": "stdout"
        }
      ]
    },
    {
      "cell_type": "code",
      "metadata": {
        "id": "kQE6wpGoZDZW",
        "colab_type": "code",
        "colab": {
          "base_uri": "https://localhost:8080/",
          "height": 35
        },
        "outputId": "9d7a0b8d-d45b-44c0-991a-79d4c0541120"
      },
      "source": [
        "trainX.shape"
      ],
      "execution_count": 3,
      "outputs": [
        {
          "output_type": "execute_result",
          "data": {
            "text/plain": [
              "(60000, 28, 28)"
            ]
          },
          "metadata": {
            "tags": []
          },
          "execution_count": 3
        }
      ]
    },
    {
      "cell_type": "code",
      "metadata": {
        "id": "D1jhAoS7ZGHs",
        "colab_type": "code",
        "colab": {
          "base_uri": "https://localhost:8080/",
          "height": 35
        },
        "outputId": "edd756b4-cfe8-418f-dbe9-0f826a1ecdcc"
      },
      "source": [
        "trainY[6000]"
      ],
      "execution_count": 5,
      "outputs": [
        {
          "output_type": "execute_result",
          "data": {
            "text/plain": [
              "6"
            ]
          },
          "metadata": {
            "tags": []
          },
          "execution_count": 5
        }
      ]
    },
    {
      "cell_type": "code",
      "metadata": {
        "id": "12Kb45n4ZH47",
        "colab_type": "code",
        "colab": {
          "base_uri": "https://localhost:8080/",
          "height": 35
        },
        "outputId": "9333285c-b519-4c8b-b925-626b5538f9a8"
      },
      "source": [
        "testX.shape"
      ],
      "execution_count": 6,
      "outputs": [
        {
          "output_type": "execute_result",
          "data": {
            "text/plain": [
              "(10000, 28, 28)"
            ]
          },
          "metadata": {
            "tags": []
          },
          "execution_count": 6
        }
      ]
    },
    {
      "cell_type": "code",
      "metadata": {
        "id": "XtiPHLzMZhJv",
        "colab_type": "code",
        "colab": {}
      },
      "source": [
        "#Convert output label to multiple value\n",
        "trainY = tf.keras.utils.to_categorical(trainY, num_classes=10)\n",
        "testY = tf.keras.utils.to_categorical(testY, num_classes = 10)"
      ],
      "execution_count": 0,
      "outputs": []
    },
    {
      "cell_type": "code",
      "metadata": {
        "id": "DJ8QXqlkaJbB",
        "colab_type": "code",
        "colab": {
          "base_uri": "https://localhost:8080/",
          "height": 35
        },
        "outputId": "e2561405-5492-43b5-dcde-c4e7e0d10ef8"
      },
      "source": [
        "trainY[6000]"
      ],
      "execution_count": 9,
      "outputs": [
        {
          "output_type": "execute_result",
          "data": {
            "text/plain": [
              "array([0., 0., 0., 0., 0., 0., 1., 0., 0., 0.], dtype=float32)"
            ]
          },
          "metadata": {
            "tags": []
          },
          "execution_count": 9
        }
      ]
    },
    {
      "cell_type": "code",
      "metadata": {
        "id": "yOOLuX1DdosH",
        "colab_type": "code",
        "colab": {
          "base_uri": "https://localhost:8080/",
          "height": 89
        },
        "outputId": "50018098-dd59-4c97-fb67-9ed5a400dcd1"
      },
      "source": [
        "#Build Graph \n",
        "model = tf.keras.models.Sequential()\n",
        "#Reshape the data from 2d to 1d --> 28X28 to 784\n",
        "model.add(tf.keras.layers.Reshape((784,),input_shape = (28,28)))\n",
        "#Normalize the Data\n",
        "model.add(tf.keras.layers.BatchNormalization())"
      ],
      "execution_count": 10,
      "outputs": [
        {
          "output_type": "stream",
          "text": [
            "WARNING:tensorflow:From /usr/local/lib/python3.6/dist-packages/tensorflow_core/python/ops/resource_variable_ops.py:1630: calling BaseResourceVariable.__init__ (from tensorflow.python.ops.resource_variable_ops) with constraint is deprecated and will be removed in a future version.\n",
            "Instructions for updating:\n",
            "If using Keras pass *_constraint arguments to layers.\n"
          ],
          "name": "stdout"
        }
      ]
    },
    {
      "cell_type": "markdown",
      "metadata": {
        "id": "TnCKuYfihdRe",
        "colab_type": "text"
      },
      "source": [
        "Build the graph"
      ]
    },
    {
      "cell_type": "code",
      "metadata": {
        "id": "fCaf79FfhhgQ",
        "colab_type": "code",
        "colab": {}
      },
      "source": [
        "#Add first hidden layer\n",
        "model.add(tf.keras.layers.Dense(200, activation='sigmoid'))\n",
        "#Add 2nd hidden layer\n",
        "model.add(tf.keras.layers.Dense(100, activation='sigmoid'))\n",
        "#Add 3rd hidden layer\n",
        "model.add(tf.keras.layers.Dense(60, activation='sigmoid'))\n",
        "#Add 4th hidden layer\n",
        "model.add(tf.keras.layers.Dense(30, activation='sigmoid'))\n",
        "#Add Output layer\n",
        "model.add(tf.keras.layers.Dense(10, activation='softmax'))\n"
      ],
      "execution_count": 0,
      "outputs": []
    },
    {
      "cell_type": "code",
      "metadata": {
        "id": "6oXbFOnaiMG7",
        "colab_type": "code",
        "colab": {}
      },
      "source": [
        "#Compile the Model\n",
        "model.compile(optimizer='adam', loss='categorical_crossentropy', metrics=['accuracy'])"
      ],
      "execution_count": 0,
      "outputs": []
    },
    {
      "cell_type": "markdown",
      "metadata": {
        "id": "zYzQqIbDi5VR",
        "colab_type": "text"
      },
      "source": [
        "Model Summary"
      ]
    },
    {
      "cell_type": "code",
      "metadata": {
        "id": "Hf2pxEi-ij22",
        "colab_type": "code",
        "colab": {
          "base_uri": "https://localhost:8080/",
          "height": 399
        },
        "outputId": "3e56ae25-f961-4c0d-dd48-8d01ac6fab45"
      },
      "source": [
        "model.summary()"
      ],
      "execution_count": 13,
      "outputs": [
        {
          "output_type": "stream",
          "text": [
            "Model: \"sequential\"\n",
            "_________________________________________________________________\n",
            "Layer (type)                 Output Shape              Param #   \n",
            "=================================================================\n",
            "reshape (Reshape)            (None, 784)               0         \n",
            "_________________________________________________________________\n",
            "batch_normalization (BatchNo (None, 784)               3136      \n",
            "_________________________________________________________________\n",
            "dense (Dense)                (None, 200)               157000    \n",
            "_________________________________________________________________\n",
            "dense_1 (Dense)              (None, 100)               20100     \n",
            "_________________________________________________________________\n",
            "dense_2 (Dense)              (None, 60)                6060      \n",
            "_________________________________________________________________\n",
            "dense_3 (Dense)              (None, 30)                1830      \n",
            "_________________________________________________________________\n",
            "dense_4 (Dense)              (None, 10)                310       \n",
            "=================================================================\n",
            "Total params: 188,436\n",
            "Trainable params: 186,868\n",
            "Non-trainable params: 1,568\n",
            "_________________________________________________________________\n"
          ],
          "name": "stdout"
        }
      ]
    },
    {
      "cell_type": "markdown",
      "metadata": {
        "id": "vKKml2-akFMj",
        "colab_type": "text"
      },
      "source": [
        "Train the Model"
      ]
    },
    {
      "cell_type": "code",
      "metadata": {
        "id": "QWCCBmmMkI9K",
        "colab_type": "code",
        "colab": {
          "base_uri": "https://localhost:8080/",
          "height": 1000
        },
        "outputId": "cf19fe95-456f-4d5d-d460-e6224ab57434"
      },
      "source": [
        "model.fit(trainX,trainY,\n",
        "          validation_data = (testX,testY),\n",
        "          epochs=30,\n",
        "          batch_size=32)"
      ],
      "execution_count": 14,
      "outputs": [
        {
          "output_type": "stream",
          "text": [
            "Train on 60000 samples, validate on 10000 samples\n",
            "Epoch 1/30\n",
            "60000/60000 [==============================] - 11s 183us/sample - loss: 0.6588 - acc: 0.8326 - val_loss: 0.2382 - val_acc: 0.9414\n",
            "Epoch 2/30\n",
            "60000/60000 [==============================] - 9s 155us/sample - loss: 0.1957 - acc: 0.9474 - val_loss: 0.1677 - val_acc: 0.9566\n",
            "Epoch 3/30\n",
            "60000/60000 [==============================] - 9s 154us/sample - loss: 0.1319 - acc: 0.9630 - val_loss: 0.1409 - val_acc: 0.9637\n",
            "Epoch 4/30\n",
            "60000/60000 [==============================] - 9s 155us/sample - loss: 0.1013 - acc: 0.9705 - val_loss: 0.1304 - val_acc: 0.9662\n",
            "Epoch 5/30\n",
            "60000/60000 [==============================] - 9s 155us/sample - loss: 0.0822 - acc: 0.9754 - val_loss: 0.1308 - val_acc: 0.9664\n",
            "Epoch 6/30\n",
            "60000/60000 [==============================] - 9s 154us/sample - loss: 0.0715 - acc: 0.9787 - val_loss: 0.1231 - val_acc: 0.9677\n",
            "Epoch 7/30\n",
            "60000/60000 [==============================] - 9s 156us/sample - loss: 0.0650 - acc: 0.9805 - val_loss: 0.1366 - val_acc: 0.9652\n",
            "Epoch 8/30\n",
            "60000/60000 [==============================] - 9s 154us/sample - loss: 0.0559 - acc: 0.9829 - val_loss: 0.1550 - val_acc: 0.9631\n",
            "Epoch 9/30\n",
            "60000/60000 [==============================] - 9s 155us/sample - loss: 0.0524 - acc: 0.9837 - val_loss: 0.1319 - val_acc: 0.9664\n",
            "Epoch 10/30\n",
            "60000/60000 [==============================] - 9s 152us/sample - loss: 0.0478 - acc: 0.9851 - val_loss: 0.1377 - val_acc: 0.9682\n",
            "Epoch 11/30\n",
            "60000/60000 [==============================] - 9s 154us/sample - loss: 0.0458 - acc: 0.9850 - val_loss: 0.1316 - val_acc: 0.9680\n",
            "Epoch 12/30\n",
            "60000/60000 [==============================] - 9s 153us/sample - loss: 0.0390 - acc: 0.9873 - val_loss: 0.1298 - val_acc: 0.9672\n",
            "Epoch 13/30\n",
            "60000/60000 [==============================] - 9s 153us/sample - loss: 0.0386 - acc: 0.9878 - val_loss: 0.1312 - val_acc: 0.9679\n",
            "Epoch 14/30\n",
            "60000/60000 [==============================] - 9s 153us/sample - loss: 0.0354 - acc: 0.9884 - val_loss: 0.1257 - val_acc: 0.9696\n",
            "Epoch 15/30\n",
            "60000/60000 [==============================] - 9s 153us/sample - loss: 0.0341 - acc: 0.9890 - val_loss: 0.1469 - val_acc: 0.9648\n",
            "Epoch 16/30\n",
            "60000/60000 [==============================] - 9s 153us/sample - loss: 0.0332 - acc: 0.9891 - val_loss: 0.1381 - val_acc: 0.9672\n",
            "Epoch 17/30\n",
            "60000/60000 [==============================] - 9s 154us/sample - loss: 0.0307 - acc: 0.9901 - val_loss: 0.1436 - val_acc: 0.9675\n",
            "Epoch 18/30\n",
            "60000/60000 [==============================] - 9s 155us/sample - loss: 0.0302 - acc: 0.9904 - val_loss: 0.1431 - val_acc: 0.9669\n",
            "Epoch 19/30\n",
            "60000/60000 [==============================] - 10s 160us/sample - loss: 0.0279 - acc: 0.9910 - val_loss: 0.1512 - val_acc: 0.9672\n",
            "Epoch 20/30\n",
            "60000/60000 [==============================] - 9s 154us/sample - loss: 0.0287 - acc: 0.9909 - val_loss: 0.1391 - val_acc: 0.9704\n",
            "Epoch 21/30\n",
            "60000/60000 [==============================] - 9s 155us/sample - loss: 0.0265 - acc: 0.9914 - val_loss: 0.1582 - val_acc: 0.9667\n",
            "Epoch 22/30\n",
            "60000/60000 [==============================] - 9s 154us/sample - loss: 0.0258 - acc: 0.9915 - val_loss: 0.1564 - val_acc: 0.9667\n",
            "Epoch 23/30\n",
            "60000/60000 [==============================] - 9s 153us/sample - loss: 0.0231 - acc: 0.9927 - val_loss: 0.1591 - val_acc: 0.9651\n",
            "Epoch 24/30\n",
            "60000/60000 [==============================] - 9s 155us/sample - loss: 0.0238 - acc: 0.9920 - val_loss: 0.1593 - val_acc: 0.9661\n",
            "Epoch 25/30\n",
            "60000/60000 [==============================] - 9s 155us/sample - loss: 0.0216 - acc: 0.9927 - val_loss: 0.1635 - val_acc: 0.9664\n",
            "Epoch 26/30\n",
            "60000/60000 [==============================] - 9s 156us/sample - loss: 0.0226 - acc: 0.9925 - val_loss: 0.1607 - val_acc: 0.9659\n",
            "Epoch 27/30\n",
            "60000/60000 [==============================] - 10s 162us/sample - loss: 0.0201 - acc: 0.9931 - val_loss: 0.1662 - val_acc: 0.9666\n",
            "Epoch 28/30\n",
            "60000/60000 [==============================] - 9s 155us/sample - loss: 0.0200 - acc: 0.9933 - val_loss: 0.1625 - val_acc: 0.9653\n",
            "Epoch 29/30\n",
            "60000/60000 [==============================] - 9s 155us/sample - loss: 0.0222 - acc: 0.9926 - val_loss: 0.1495 - val_acc: 0.9678\n",
            "Epoch 30/30\n",
            "60000/60000 [==============================] - 9s 155us/sample - loss: 0.0195 - acc: 0.9939 - val_loss: 0.1578 - val_acc: 0.9660\n"
          ],
          "name": "stdout"
        },
        {
          "output_type": "execute_result",
          "data": {
            "text/plain": [
              "<tensorflow.python.keras.callbacks.History at 0x7f7233451630>"
            ]
          },
          "metadata": {
            "tags": []
          },
          "execution_count": 14
        }
      ]
    },
    {
      "cell_type": "code",
      "metadata": {
        "id": "h26qOulXkajv",
        "colab_type": "code",
        "colab": {}
      },
      "source": [
        ""
      ],
      "execution_count": 0,
      "outputs": []
    }
  ]
}