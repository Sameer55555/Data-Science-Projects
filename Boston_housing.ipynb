{
  "nbformat": 4,
  "nbformat_minor": 0,
  "metadata": {
    "colab": {
      "name": "Boston_housing.ipynb",
      "provenance": [],
      "collapsed_sections": [],
      "authorship_tag": "ABX9TyM+T3j3OdEJ8Ha910ienGMD",
      "include_colab_link": true
    },
    "kernelspec": {
      "name": "python3",
      "display_name": "Python 3"
    },
    "accelerator": "GPU"
  },
  "cells": [
    {
      "cell_type": "markdown",
      "metadata": {
        "id": "view-in-github",
        "colab_type": "text"
      },
      "source": [
        "<a href=\"https://colab.research.google.com/github/Sameer55555/Practice/blob/master/Boston_housing.ipynb\" target=\"_parent\"><img src=\"https://colab.research.google.com/assets/colab-badge.svg\" alt=\"Open In Colab\"/></a>"
      ]
    },
    {
      "cell_type": "code",
      "metadata": {
        "id": "pWTf1cUENW5D",
        "colab_type": "code",
        "colab": {}
      },
      "source": [
        "#Boston Housing prices"
      ],
      "execution_count": 0,
      "outputs": []
    },
    {
      "cell_type": "code",
      "metadata": {
        "id": "oyTWarzsd9bE",
        "colab_type": "code",
        "colab": {}
      },
      "source": [
        "import numpy as np"
      ],
      "execution_count": 0,
      "outputs": []
    },
    {
      "cell_type": "code",
      "metadata": {
        "id": "Yn7qtYvVfa5x",
        "colab_type": "code",
        "colab": {}
      },
      "source": [
        "import tensorflow as tf"
      ],
      "execution_count": 0,
      "outputs": []
    },
    {
      "cell_type": "code",
      "metadata": {
        "id": "EcK4bAyEfguK",
        "colab_type": "code",
        "outputId": "0adb7d58-cf57-4095-e061-93ed92438c6f",
        "colab": {
          "base_uri": "https://localhost:8080/",
          "height": 35
        }
      },
      "source": [
        "tf.__version__\n"
      ],
      "execution_count": 0,
      "outputs": [
        {
          "output_type": "execute_result",
          "data": {
            "text/plain": [
              "'1.15.0'"
            ]
          },
          "metadata": {
            "tags": []
          },
          "execution_count": 47
        }
      ]
    },
    {
      "cell_type": "code",
      "metadata": {
        "id": "XuyyIeUqC-mB",
        "colab_type": "code",
        "colab": {}
      },
      "source": [
        "tf.reset_default_graph()"
      ],
      "execution_count": 0,
      "outputs": []
    },
    {
      "cell_type": "code",
      "metadata": {
        "id": "dld7QRNqDL1t",
        "colab_type": "code",
        "colab": {}
      },
      "source": [
        "#Collect data"
      ],
      "execution_count": 0,
      "outputs": []
    },
    {
      "cell_type": "code",
      "metadata": {
        "id": "cFse7HsiDOkt",
        "colab_type": "code",
        "colab": {}
      },
      "source": [
        "(features, actual_prices),_ = tf.keras.datasets.boston_housing.load_data(test_split=0) "
      ],
      "execution_count": 0,
      "outputs": []
    },
    {
      "cell_type": "code",
      "metadata": {
        "id": "5xFkK-nCDt9F",
        "colab_type": "code",
        "outputId": "e586ca79-6a79-466c-899d-5006501f9083",
        "colab": {
          "base_uri": "https://localhost:8080/",
          "height": 35
        }
      },
      "source": [
        "print('Number of examples:', features.shape[0])"
      ],
      "execution_count": 0,
      "outputs": [
        {
          "output_type": "stream",
          "text": [
            "Number of examples: 506\n"
          ],
          "name": "stdout"
        }
      ]
    },
    {
      "cell_type": "code",
      "metadata": {
        "id": "_Bt-juKjD748",
        "colab_type": "code",
        "outputId": "dec5fe1f-2f94-456b-bc32-3ddac66a9dd8",
        "colab": {
          "base_uri": "https://localhost:8080/",
          "height": 35
        }
      },
      "source": [
        "print('Number of features for each examples: ', features.shape[1])"
      ],
      "execution_count": 0,
      "outputs": [
        {
          "output_type": "stream",
          "text": [
            "Number of features for each examples:  13\n"
          ],
          "name": "stdout"
        }
      ]
    },
    {
      "cell_type": "code",
      "metadata": {
        "id": "sOOind8oEHO_",
        "colab_type": "code",
        "outputId": "68f0f73c-bd2b-4231-c909-bf28a10ad22e",
        "colab": {
          "base_uri": "https://localhost:8080/",
          "height": 35
        }
      },
      "source": [
        "print('Shape of actual prices data', actual_prices.shape)"
      ],
      "execution_count": 0,
      "outputs": [
        {
          "output_type": "stream",
          "text": [
            "Shape of actual prices data (506,)\n"
          ],
          "name": "stdout"
        }
      ]
    },
    {
      "cell_type": "code",
      "metadata": {
        "id": "Pi0wer1rESRs",
        "colab_type": "code",
        "colab": {}
      },
      "source": [
        "#Building the graph"
      ],
      "execution_count": 0,
      "outputs": []
    },
    {
      "cell_type": "code",
      "metadata": {
        "id": "XxO2zdYUEbet",
        "colab_type": "code",
        "colab": {}
      },
      "source": [
        "x = tf.placeholder(shape=[None, 13], dtype=tf.float32, name='x-input')\n",
        "x_n = tf.layers.batch_normalization(x, training=True)\n",
        "y_ = tf.placeholder(shape=[None], dtype=tf.float32, name='y-input')"
      ],
      "execution_count": 0,
      "outputs": []
    },
    {
      "cell_type": "code",
      "metadata": {
        "id": "TzAIhZmWTsxH",
        "colab_type": "code",
        "colab": {}
      },
      "source": [
        "#Define wieghts and bias"
      ],
      "execution_count": 0,
      "outputs": []
    },
    {
      "cell_type": "code",
      "metadata": {
        "id": "JzChGWl3Tw-W",
        "colab_type": "code",
        "colab": {}
      },
      "source": [
        "W = tf.Variable(tf.zeros(shape=[13,1]), name='Wieghts')"
      ],
      "execution_count": 0,
      "outputs": []
    },
    {
      "cell_type": "code",
      "metadata": {
        "id": "vDlKVoToUGUv",
        "colab_type": "code",
        "colab": {}
      },
      "source": [
        "b = tf.Variable(tf.zeros(shape=[1]), name='Bias')"
      ],
      "execution_count": 0,
      "outputs": []
    },
    {
      "cell_type": "code",
      "metadata": {
        "id": "2U5S0zCTURt5",
        "colab_type": "code",
        "colab": {}
      },
      "source": [
        "#We will use normalized data\n",
        "y = tf.add(tf.matmul(x_n,W), b, name='output')"
      ],
      "execution_count": 0,
      "outputs": []
    },
    {
      "cell_type": "code",
      "metadata": {
        "id": "Xx_Sv2JzUd6_",
        "colab_type": "code",
        "colab": {}
      },
      "source": [
        "#Lost cost function\n",
        "loss = tf.reduce_mean(tf.square(y-y_), name='loss')"
      ],
      "execution_count": 0,
      "outputs": []
    },
    {
      "cell_type": "code",
      "metadata": {
        "id": "etXp2SXMU3qj",
        "colab_type": "code",
        "colab": {}
      },
      "source": [
        "#GradientDescent Optimizer to minimize the loss\n",
        "train_op = tf.train.GradientDescentOptimizer(0.03).minimize(loss)"
      ],
      "execution_count": 0,
      "outputs": []
    },
    {
      "cell_type": "code",
      "metadata": {
        "id": "-xJUVd8svEJ0",
        "colab_type": "code",
        "colab": {}
      },
      "source": [
        "#@Graph\n",
        "#Executing the Graph\n",
        "#Lets start graph execution\n",
        "sess = tf.Session()"
      ],
      "execution_count": 0,
      "outputs": []
    },
    {
      "cell_type": "code",
      "metadata": {
        "id": "9qXXwFVjvStH",
        "colab_type": "code",
        "colab": {}
      },
      "source": [
        "#Variable need to be intialized before we use them\n",
        "sess.run(tf.global_variables_initializer())"
      ],
      "execution_count": 0,
      "outputs": []
    },
    {
      "cell_type": "code",
      "metadata": {
        "id": "Os5_1hvUvnVP",
        "colab_type": "code",
        "colab": {}
      },
      "source": [
        "training_epochs = 100"
      ],
      "execution_count": 0,
      "outputs": []
    },
    {
      "cell_type": "code",
      "metadata": {
        "id": "bUpXmQwVvzfW",
        "colab_type": "code",
        "outputId": "903b022c-92bf-4d53-e65d-672ff457b57e",
        "colab": {
          "base_uri": "https://localhost:8080/",
          "height": 191
        }
      },
      "source": [
        "for epoch in range(training_epochs):\n",
        "  _, train_loss = sess.run([train_op,loss], feed_dict={x:features, y_:actual_prices})\n",
        "\n",
        "  if epoch % 10 == 0:\n",
        "    print('Training loss at step: ', epoch, 'is', train_loss)\n",
        "\n"
      ],
      "execution_count": 0,
      "outputs": [
        {
          "output_type": "stream",
          "text": [
            "Training loss at step:  0 is 592.1469\n",
            "Training loss at step:  10 is 231.71445\n",
            "Training loss at step:  20 is 127.146416\n",
            "Training loss at step:  30 is 96.517426\n",
            "Training loss at step:  40 is 86.57767\n",
            "Training loss at step:  50 is 84.77445\n",
            "Training loss at step:  60 is 84.610794\n",
            "Training loss at step:  70 is 84.55313\n",
            "Training loss at step:  80 is 84.52103\n",
            "Training loss at step:  90 is 84.500145\n"
          ],
          "name": "stdout"
        }
      ]
    },
    {
      "cell_type": "code",
      "metadata": {
        "id": "w8KmcQzVwSDt",
        "colab_type": "code",
        "colab": {}
      },
      "source": [
        "sess.close()"
      ],
      "execution_count": 0,
      "outputs": []
    },
    {
      "cell_type": "code",
      "metadata": {
        "id": "3usxgpWawnKl",
        "colab_type": "code",
        "outputId": "e232bc95-a1f3-408b-b636-61af6a6f2dba",
        "colab": {
          "base_uri": "https://localhost:8080/",
          "height": 69
        }
      },
      "source": [
        "features[0]"
      ],
      "execution_count": 0,
      "outputs": [
        {
          "output_type": "execute_result",
          "data": {
            "text/plain": [
              "array([  1.23247,   0.     ,   8.14   ,   0.     ,   0.538  ,   6.142  ,\n",
              "        91.7    ,   3.9769 ,   4.     , 307.     ,  21.     , 396.9    ,\n",
              "        18.72   ])"
            ]
          },
          "metadata": {
            "tags": []
          },
          "execution_count": 67
        }
      ]
    },
    {
      "cell_type": "code",
      "metadata": {
        "id": "TwaC-n-AxB5X",
        "colab_type": "code",
        "colab": {}
      },
      "source": [
        ""
      ],
      "execution_count": 0,
      "outputs": []
    }
  ]
}