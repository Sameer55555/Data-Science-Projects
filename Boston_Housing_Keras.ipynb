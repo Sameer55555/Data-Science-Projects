{
  "nbformat": 4,
  "nbformat_minor": 0,
  "metadata": {
    "colab": {
      "name": "Boston_Housing_Keras.ipynb",
      "provenance": [],
      "collapsed_sections": [],
      "authorship_tag": "ABX9TyNqKr48WYyDG8pJDT8mOBiC",
      "include_colab_link": true
    },
    "kernelspec": {
      "name": "python3",
      "display_name": "Python 3"
    },
    "accelerator": "GPU"
  },
  "cells": [
    {
      "cell_type": "markdown",
      "metadata": {
        "id": "view-in-github",
        "colab_type": "text"
      },
      "source": [
        "<a href=\"https://colab.research.google.com/github/Sameer55555/Practice/blob/master/Boston_Housing_Keras.ipynb\" target=\"_parent\"><img src=\"https://colab.research.google.com/assets/colab-badge.svg\" alt=\"Open In Colab\"/></a>"
      ]
    },
    {
      "cell_type": "code",
      "metadata": {
        "id": "1iBe0HdUzAw_",
        "colab_type": "code",
        "colab": {
          "base_uri": "https://localhost:8080/",
          "height": 64
        },
        "outputId": "624ca6c0-582b-4bf8-fec1-7e1110b6971a"
      },
      "source": [
        "import tensorflow as tf"
      ],
      "execution_count": 3,
      "outputs": [
        {
          "output_type": "display_data",
          "data": {
            "text/html": [
              "<p style=\"color: red;\">\n",
              "The default version of TensorFlow in Colab will soon switch to TensorFlow 2.x.<br>\n",
              "We recommend you <a href=\"https://www.tensorflow.org/guide/migrate\" target=\"_blank\">upgrade</a> now \n",
              "or ensure your notebook will continue to use TensorFlow 1.x via the <code>%tensorflow_version 1.x</code> magic:\n",
              "<a href=\"https://colab.research.google.com/notebooks/tensorflow_version.ipynb\" target=\"_blank\">more info</a>.</p>\n"
            ],
            "text/plain": [
              "<IPython.core.display.HTML object>"
            ]
          },
          "metadata": {
            "tags": []
          }
        }
      ]
    },
    {
      "cell_type": "code",
      "metadata": {
        "id": "6z8U74Fq6gre",
        "colab_type": "code",
        "colab": {}
      },
      "source": [
        "tf.reset_default_graph()"
      ],
      "execution_count": 0,
      "outputs": []
    },
    {
      "cell_type": "code",
      "metadata": {
        "id": "0B5Svjnj6pt-",
        "colab_type": "code",
        "colab": {
          "base_uri": "https://localhost:8080/",
          "height": 35
        },
        "outputId": "1338cc7e-e1d3-42a4-b767-86be1238366f"
      },
      "source": [
        "tf.keras.__version__"
      ],
      "execution_count": 6,
      "outputs": [
        {
          "output_type": "execute_result",
          "data": {
            "text/plain": [
              "'2.2.4-tf'"
            ]
          },
          "metadata": {
            "tags": []
          },
          "execution_count": 6
        }
      ]
    },
    {
      "cell_type": "code",
      "metadata": {
        "id": "hGAGMen68wXV",
        "colab_type": "code",
        "colab": {}
      },
      "source": [
        "#Collect data"
      ],
      "execution_count": 0,
      "outputs": []
    },
    {
      "cell_type": "code",
      "metadata": {
        "id": "xY-mJMCR84tI",
        "colab_type": "code",
        "colab": {
          "base_uri": "https://localhost:8080/",
          "height": 52
        },
        "outputId": "2862a491-6a43-4058-e879-cc901c52ee7b"
      },
      "source": [
        "(features, actual_prices),_ = tf.keras.datasets.boston_housing.load_data(test_split=0)"
      ],
      "execution_count": 8,
      "outputs": [
        {
          "output_type": "stream",
          "text": [
            "Downloading data from https://storage.googleapis.com/tensorflow/tf-keras-datasets/boston_housing.npz\n",
            "57344/57026 [==============================] - 0s 0us/step\n"
          ],
          "name": "stdout"
        }
      ]
    },
    {
      "cell_type": "code",
      "metadata": {
        "id": "H4eWFKqs9dV6",
        "colab_type": "code",
        "colab": {
          "base_uri": "https://localhost:8080/",
          "height": 69
        },
        "outputId": "632ced25-1693-4262-a5bc-166b56aec04e"
      },
      "source": [
        "print('Number of Examples: ', features.shape[0])\n",
        "print('Number of features for each examples: ', features.shape[1])\n",
        "print('Shape of actual_prices data: ', actual_prices.shape)\n"
      ],
      "execution_count": 11,
      "outputs": [
        {
          "output_type": "stream",
          "text": [
            "Number of Examples:  506\n",
            "Number of features for each examples:  13\n",
            "Shape of actual_prices data:  (506,)\n"
          ],
          "name": "stdout"
        }
      ]
    },
    {
      "cell_type": "code",
      "metadata": {
        "id": "UA_9P_HZCF4r",
        "colab_type": "code",
        "colab": {}
      },
      "source": [
        "#Building a Graph in Keras\n",
        "model = tf.keras.models.Sequential()\n",
        "#Normalize input data\n",
        "model.add(tf.keras.layers.BatchNormalization(input_shape=(13,)))\n",
        "#Add dense for predictions\n",
        "model.add(tf.keras.layers.Dense(1))\n",
        "#Compile the model - add Loss and Gradient Descent Optimizer\n",
        "model.compile(optimizer='sgd', loss='mse')"
      ],
      "execution_count": 0,
      "outputs": []
    },
    {
      "cell_type": "code",
      "metadata": {
        "id": "reiytUZxCfNQ",
        "colab_type": "code",
        "colab": {}
      },
      "source": [
        "#@Execute the Graph"
      ],
      "execution_count": 0,
      "outputs": []
    },
    {
      "cell_type": "code",
      "metadata": {
        "id": "1-M9v_JUD3ac",
        "colab_type": "code",
        "colab": {
          "base_uri": "https://localhost:8080/",
          "height": 1000
        },
        "outputId": "b35fc3d4-a7e5-4cd8-c91c-2370d472f1ac"
      },
      "source": [
        "model.fit(features, actual_prices, epochs=100)"
      ],
      "execution_count": 18,
      "outputs": [
        {
          "output_type": "stream",
          "text": [
            "Train on 506 samples\n",
            "Epoch 1/100\n",
            "506/506 [==============================] - 9s 17ms/sample - loss: 199.3351\n",
            "Epoch 2/100\n",
            "506/506 [==============================] - 0s 76us/sample - loss: 40.8117\n",
            "Epoch 3/100\n",
            "506/506 [==============================] - 0s 85us/sample - loss: 32.9927\n",
            "Epoch 4/100\n",
            "506/506 [==============================] - 0s 82us/sample - loss: 32.1548\n",
            "Epoch 5/100\n",
            "506/506 [==============================] - 0s 88us/sample - loss: 33.4912\n",
            "Epoch 6/100\n",
            "506/506 [==============================] - 0s 80us/sample - loss: 30.6876\n",
            "Epoch 7/100\n",
            "506/506 [==============================] - 0s 85us/sample - loss: 33.0069\n",
            "Epoch 8/100\n",
            "506/506 [==============================] - 0s 80us/sample - loss: 28.3001\n",
            "Epoch 9/100\n",
            "506/506 [==============================] - 0s 86us/sample - loss: 28.5565\n",
            "Epoch 10/100\n",
            "506/506 [==============================] - 0s 80us/sample - loss: 27.7768\n",
            "Epoch 11/100\n",
            "506/506 [==============================] - 0s 82us/sample - loss: 26.4862\n",
            "Epoch 12/100\n",
            "506/506 [==============================] - 0s 73us/sample - loss: 29.9039\n",
            "Epoch 13/100\n",
            "506/506 [==============================] - 0s 74us/sample - loss: 25.3945\n",
            "Epoch 14/100\n",
            "506/506 [==============================] - 0s 82us/sample - loss: 24.7011\n",
            "Epoch 15/100\n",
            "506/506 [==============================] - 0s 79us/sample - loss: 29.3334\n",
            "Epoch 16/100\n",
            "506/506 [==============================] - 0s 91us/sample - loss: 29.1777\n",
            "Epoch 17/100\n",
            "506/506 [==============================] - 0s 78us/sample - loss: 32.7957\n",
            "Epoch 18/100\n",
            "506/506 [==============================] - 0s 90us/sample - loss: 26.6870\n",
            "Epoch 19/100\n",
            "506/506 [==============================] - 0s 85us/sample - loss: 27.5142\n",
            "Epoch 20/100\n",
            "506/506 [==============================] - 0s 88us/sample - loss: 27.8334\n",
            "Epoch 21/100\n",
            "506/506 [==============================] - 0s 102us/sample - loss: 26.8521\n",
            "Epoch 22/100\n",
            "506/506 [==============================] - 0s 97us/sample - loss: 28.0807\n",
            "Epoch 23/100\n",
            "506/506 [==============================] - 0s 93us/sample - loss: 27.2062\n",
            "Epoch 24/100\n",
            "506/506 [==============================] - 0s 98us/sample - loss: 27.7472\n",
            "Epoch 25/100\n",
            "506/506 [==============================] - 0s 83us/sample - loss: 26.2370\n",
            "Epoch 26/100\n",
            "506/506 [==============================] - 0s 88us/sample - loss: 26.4120\n",
            "Epoch 27/100\n",
            "506/506 [==============================] - 0s 98us/sample - loss: 26.4735\n",
            "Epoch 28/100\n",
            "506/506 [==============================] - 0s 98us/sample - loss: 26.4755\n",
            "Epoch 29/100\n",
            "506/506 [==============================] - 0s 97us/sample - loss: 25.8818\n",
            "Epoch 30/100\n",
            "506/506 [==============================] - 0s 90us/sample - loss: 30.7218\n",
            "Epoch 31/100\n",
            "506/506 [==============================] - 0s 89us/sample - loss: 27.0346\n",
            "Epoch 32/100\n",
            "506/506 [==============================] - 0s 88us/sample - loss: 31.6209\n",
            "Epoch 33/100\n",
            "506/506 [==============================] - 0s 93us/sample - loss: 28.3019\n",
            "Epoch 34/100\n",
            "506/506 [==============================] - 0s 80us/sample - loss: 29.0792\n",
            "Epoch 35/100\n",
            "506/506 [==============================] - 0s 80us/sample - loss: 28.2627\n",
            "Epoch 36/100\n",
            "506/506 [==============================] - 0s 90us/sample - loss: 28.9416\n",
            "Epoch 37/100\n",
            "506/506 [==============================] - 0s 82us/sample - loss: 28.3680\n",
            "Epoch 38/100\n",
            "506/506 [==============================] - 0s 77us/sample - loss: 29.4849\n",
            "Epoch 39/100\n",
            "506/506 [==============================] - 0s 82us/sample - loss: 24.4526\n",
            "Epoch 40/100\n",
            "506/506 [==============================] - 0s 84us/sample - loss: 29.4050\n",
            "Epoch 41/100\n",
            "506/506 [==============================] - 0s 83us/sample - loss: 26.0807\n",
            "Epoch 42/100\n",
            "506/506 [==============================] - 0s 81us/sample - loss: 30.2358\n",
            "Epoch 43/100\n",
            "506/506 [==============================] - 0s 97us/sample - loss: 23.5592\n",
            "Epoch 44/100\n",
            "506/506 [==============================] - 0s 78us/sample - loss: 24.9892\n",
            "Epoch 45/100\n",
            "506/506 [==============================] - 0s 94us/sample - loss: 27.7898\n",
            "Epoch 46/100\n",
            "506/506 [==============================] - 0s 82us/sample - loss: 27.2696\n",
            "Epoch 47/100\n",
            "506/506 [==============================] - 0s 79us/sample - loss: 29.8302\n",
            "Epoch 48/100\n",
            "506/506 [==============================] - 0s 79us/sample - loss: 28.7235\n",
            "Epoch 49/100\n",
            "506/506 [==============================] - 0s 78us/sample - loss: 31.5069\n",
            "Epoch 50/100\n",
            "506/506 [==============================] - 0s 73us/sample - loss: 26.5260\n",
            "Epoch 51/100\n",
            "506/506 [==============================] - 0s 77us/sample - loss: 29.1841\n",
            "Epoch 52/100\n",
            "506/506 [==============================] - 0s 80us/sample - loss: 26.7406\n",
            "Epoch 53/100\n",
            "506/506 [==============================] - 0s 74us/sample - loss: 32.0219\n",
            "Epoch 54/100\n",
            "506/506 [==============================] - 0s 79us/sample - loss: 28.9093\n",
            "Epoch 55/100\n",
            "506/506 [==============================] - 0s 76us/sample - loss: 27.0756\n",
            "Epoch 56/100\n",
            "506/506 [==============================] - 0s 83us/sample - loss: 28.8757\n",
            "Epoch 57/100\n",
            "506/506 [==============================] - 0s 82us/sample - loss: 29.6218\n",
            "Epoch 58/100\n",
            "506/506 [==============================] - 0s 82us/sample - loss: 25.1778\n",
            "Epoch 59/100\n",
            "506/506 [==============================] - 0s 76us/sample - loss: 28.5196\n",
            "Epoch 60/100\n",
            "506/506 [==============================] - 0s 111us/sample - loss: 27.3178\n",
            "Epoch 61/100\n",
            "506/506 [==============================] - 0s 87us/sample - loss: 27.3340\n",
            "Epoch 62/100\n",
            "506/506 [==============================] - 0s 89us/sample - loss: 27.7716\n",
            "Epoch 63/100\n",
            "506/506 [==============================] - 0s 88us/sample - loss: 29.5507\n",
            "Epoch 64/100\n",
            "506/506 [==============================] - 0s 90us/sample - loss: 25.9618\n",
            "Epoch 65/100\n",
            "506/506 [==============================] - 0s 86us/sample - loss: 29.8639\n",
            "Epoch 66/100\n",
            "506/506 [==============================] - 0s 97us/sample - loss: 26.4273\n",
            "Epoch 67/100\n",
            "506/506 [==============================] - 0s 76us/sample - loss: 29.8486\n",
            "Epoch 68/100\n",
            "506/506 [==============================] - 0s 83us/sample - loss: 29.2644\n",
            "Epoch 69/100\n",
            "506/506 [==============================] - 0s 80us/sample - loss: 24.2930\n",
            "Epoch 70/100\n",
            "506/506 [==============================] - 0s 73us/sample - loss: 25.6403\n",
            "Epoch 71/100\n",
            "506/506 [==============================] - 0s 78us/sample - loss: 32.5793\n",
            "Epoch 72/100\n",
            "506/506 [==============================] - 0s 95us/sample - loss: 29.3384\n",
            "Epoch 73/100\n",
            "506/506 [==============================] - 0s 95us/sample - loss: 30.8284\n",
            "Epoch 74/100\n",
            "506/506 [==============================] - 0s 83us/sample - loss: 29.4576\n",
            "Epoch 75/100\n",
            "506/506 [==============================] - 0s 87us/sample - loss: 25.1442\n",
            "Epoch 76/100\n",
            "506/506 [==============================] - 0s 76us/sample - loss: 28.1817\n",
            "Epoch 77/100\n",
            "506/506 [==============================] - 0s 80us/sample - loss: 25.9757\n",
            "Epoch 78/100\n",
            "506/506 [==============================] - 0s 92us/sample - loss: 25.4015\n",
            "Epoch 79/100\n",
            "506/506 [==============================] - 0s 86us/sample - loss: 32.8227\n",
            "Epoch 80/100\n",
            "506/506 [==============================] - 0s 78us/sample - loss: 31.8811\n",
            "Epoch 81/100\n",
            "506/506 [==============================] - 0s 84us/sample - loss: 28.9276\n",
            "Epoch 82/100\n",
            "506/506 [==============================] - 0s 74us/sample - loss: 28.2014\n",
            "Epoch 83/100\n",
            "506/506 [==============================] - 0s 82us/sample - loss: 27.9288\n",
            "Epoch 84/100\n",
            "506/506 [==============================] - 0s 83us/sample - loss: 26.3306\n",
            "Epoch 85/100\n",
            "506/506 [==============================] - 0s 85us/sample - loss: 28.4419\n",
            "Epoch 86/100\n",
            "506/506 [==============================] - 0s 79us/sample - loss: 25.5880\n",
            "Epoch 87/100\n",
            "506/506 [==============================] - 0s 74us/sample - loss: 25.9340\n",
            "Epoch 88/100\n",
            "506/506 [==============================] - 0s 76us/sample - loss: 28.0258\n",
            "Epoch 89/100\n",
            "506/506 [==============================] - 0s 95us/sample - loss: 28.8143\n",
            "Epoch 90/100\n",
            "506/506 [==============================] - 0s 82us/sample - loss: 30.3649\n",
            "Epoch 91/100\n",
            "506/506 [==============================] - 0s 75us/sample - loss: 29.2784\n",
            "Epoch 92/100\n",
            "506/506 [==============================] - 0s 90us/sample - loss: 25.8447\n",
            "Epoch 93/100\n",
            "506/506 [==============================] - 0s 77us/sample - loss: 29.2305\n",
            "Epoch 94/100\n",
            "506/506 [==============================] - 0s 82us/sample - loss: 23.8863\n",
            "Epoch 95/100\n",
            "506/506 [==============================] - 0s 79us/sample - loss: 28.5547\n",
            "Epoch 96/100\n",
            "506/506 [==============================] - 0s 87us/sample - loss: 28.0603\n",
            "Epoch 97/100\n",
            "506/506 [==============================] - 0s 76us/sample - loss: 27.7023\n",
            "Epoch 98/100\n",
            "506/506 [==============================] - 0s 82us/sample - loss: 28.8639\n",
            "Epoch 99/100\n",
            "506/506 [==============================] - 0s 73us/sample - loss: 29.8383\n",
            "Epoch 100/100\n",
            "506/506 [==============================] - 0s 77us/sample - loss: 25.1206\n"
          ],
          "name": "stdout"
        },
        {
          "output_type": "execute_result",
          "data": {
            "text/plain": [
              "<tensorflow.python.keras.callbacks.History at 0x7fca6869d2e8>"
            ]
          },
          "metadata": {
            "tags": []
          },
          "execution_count": 18
        }
      ]
    },
    {
      "cell_type": "code",
      "metadata": {
        "id": "Ysn-mCKoD_AV",
        "colab_type": "code",
        "colab": {}
      },
      "source": [
        ""
      ],
      "execution_count": 0,
      "outputs": []
    }
  ]
}